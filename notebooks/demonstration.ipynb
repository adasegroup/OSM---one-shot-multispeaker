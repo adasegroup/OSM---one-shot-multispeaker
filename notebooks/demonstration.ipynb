{
 "cells": [
  {
   "cell_type": "markdown",
   "id": "2198756e",
   "metadata": {},
   "source": [
    "# One-Shot Learning Example"
   ]
  },
  {
   "cell_type": "markdown",
   "id": "1d01046a",
   "metadata": {},
   "source": [
    "The Jupyter Notebook should be launched in the folder **notebooks**."
   ]
  },
  {
   "cell_type": "code",
   "execution_count": 2,
   "id": "b0853b73",
   "metadata": {},
   "outputs": [],
   "source": [
    "import os\n",
    "os.chdir('../src')\n",
    "from osms.common.multispeaker import MultispeakerManager\n",
    "import torch\n",
    "import yaml\n",
    "import warnings\n",
    "warnings.filterwarnings(\"ignore\")\n"
   ]
  },
  {
   "cell_type": "markdown",
   "id": "ae633721",
   "metadata": {},
   "source": [
    "Create a 5-second .wav file with someone speaking English and put it into the folder **audio_samples**.\n",
    "Set the path to your .wav file in the attribute `SPEAKER_SPEECH_PATH` in `src/tts_modules/common/configs/main_config.yaml`.\n",
    "We suggest to use the app [Audio Recorder](https://apps.apple.com/us/app/audio-recorder-wav-m4a/id1454488895) to record the voice. Set the sample rate to 16HGz there.\n",
    "\n",
    "Create a .txt file with some sentences written in English and put it into the **texts** folder. Set the path to your .txt file in the attribute `INPUT_TEXTS_PATH` in `src/tts_modules/common/configs/main_config.yaml`.\n",
    "\n",
    "\n",
    "The examples are already present in these folders."
   ]
  },
  {
   "cell_type": "code",
   "execution_count": 2,
   "id": "b3905c0c",
   "metadata": {},
   "outputs": [],
   "source": [
    "with open(os.path.join(os.getcwd(), 'osms/tts_modules/common/configs/main_config.yaml'), \"r\") as ymlfile:\n",
    "    main_config = yaml.load(ymlfile)\n",
    "    \n",
    "SPEAKER_SPEECH_PATH = \"../audio_samples\"\n",
    "if not os.path.exists(SPEAKER_SPEECH_PATH):\n",
    "    os.makedirs(SPEAKER_SPEECH_PATH)\n",
    "    \n",
    "INPUT_TEXTS_PATH = \"../texts\"\n",
    "if not os.path.exists(INPUT_TEXTS_PATH):\n",
    "    os.makedirs(INPUT_TEXTS_PATH)\n",
    "    \n",
    "OUTPUT_AUDIO_DIR = \"../result_speech\"\n",
    "if not os.path.exists(OUTPUT_AUDIO_DIR):\n",
    "    os.makedirs(OUTPUT_AUDIO_DIR)"
   ]
  },
  {
   "cell_type": "code",
   "execution_count": 2,
   "id": "1a0f752b",
   "metadata": {},
   "outputs": [],
   "source": [
    "main_config = None"
   ]
  },
  {
   "cell_type": "code",
   "execution_count": 3,
   "id": "579b2553",
   "metadata": {
    "scrolled": false
   },
   "outputs": [
    {
     "name": "stdout",
     "output_type": "stream",
     "text": [
      "Trainable Parameters in dVecModel: 1.424M\n",
      "Loading DVecModel checkpoint from checkpoints/encoder.pt\n",
      "Trainable Parameters in Tacotron: 30.870M\n",
      "Loading Tacotron checkpoint from checkpoints/synthesizer/synthesizer.pt\n",
      "Trainable Parameters in WaveRNN: 4.481M\n",
      "Loading WaveRNN checkpoint from checkpoints/vocoder/vocoder.pt\n"
     ]
    },
    {
     "data": {
      "text/plain": [
       "array([0.00000000e+00, 0.00000000e+00, 0.00000000e+00, ...,\n",
       "       5.21322577e-07, 7.94726051e-08, 0.00000000e+00])"
      ]
     },
     "execution_count": 3,
     "metadata": {},
     "output_type": "execute_result"
    }
   ],
   "source": [
    "multispeaker_manager = MultispeakerManager(main_configs=main_config)\n",
    "multispeaker_manager.inference()"
   ]
  },
  {
   "cell_type": "markdown",
   "id": "48fcb1a0",
   "metadata": {},
   "source": [
    "The results will be available in the folder `result_speech`. The name of the file will be **result.wav**."
   ]
  },
  {
   "cell_type": "markdown",
   "id": "25fbbe68",
   "metadata": {},
   "source": [
    "The usability will be further improved."
   ]
  },
  {
   "cell_type": "code",
   "execution_count": 1,
   "id": "a9a85139",
   "metadata": {},
   "outputs": [],
   "source": [
    "import os\n",
    "os.chdir('../src')\n",
    "import torch\n",
    "from osms.tts_modules.encoder import SpeakerEncoderManager\n",
    "from osms.common.configs import get_default_main_configs\n",
    "from osms.tts_modules.encoder.configs import get_default_encoder_config\n",
    "from osms.tts_modules.encoder.data.wav2mel import StandardWav2MelTransform\n",
    "from osms.tts_modules.encoder.data.wav_preprocessing import StandardAudioPreprocessor\n",
    "from osms.tts_modules.encoder.data.dataset import SpeakerEncoderDataLoader, SpeakerEncoderDataset, PreprocessLibriSpeechDataset\n",
    "from osms.tts_modules.encoder.models import DVecModel\n"
   ]
  },
  {
   "cell_type": "code",
   "execution_count": 2,
   "id": "1e2f3559",
   "metadata": {},
   "outputs": [],
   "source": [
    "main_configs = get_default_main_configs()\n",
    "encoder_config = get_default_encoder_config()\n",
    "\n",
    "preprocessor = StandardAudioPreprocessor(encoder_config)\n",
    "wav2mel = StandardWav2MelTransform(encoder_config)\n",
    "\n",
    "data_preprocesser = PreprocessLibriSpeechDataset(encoder_config, preprocessor, wav2mel)"
   ]
  },
  {
   "cell_type": "code",
   "execution_count": 3,
   "id": "9d2d2545",
   "metadata": {},
   "outputs": [
    {
     "name": "stdout",
     "output_type": "stream",
     "text": [
      "10 speakers were preprocessed.\n"
     ]
    }
   ],
   "source": [
    "data_preprocesser.preprocess_dataset(n_speakers=10)"
   ]
  },
  {
   "cell_type": "code",
   "execution_count": 3,
   "id": "b556c6a4",
   "metadata": {},
   "outputs": [
    {
     "name": "stdout",
     "output_type": "stream",
     "text": [
      "Trainable Parameters in dVecModel: 1.424M\n"
     ]
    }
   ],
   "source": [
    "dataset = SpeakerEncoderDataset(encoder_config)\n",
    "dataloader = SpeakerEncoderDataLoader(encoder_config, dataset, 'train')\n",
    "\n",
    "model = DVecModel(encoder_config)\n",
    "\n",
    "optimizer = torch.optim.Adam(model.parameters(), lr=1e-4)\n",
    "\n",
    "encoder_manager = SpeakerEncoderManager(main_configs, model, \n",
    "                                        preprocessor, wav2mel, \n",
    "                                        dataloader, dataloader, \n",
    "                                        optimizer)\n"
   ]
  },
  {
   "cell_type": "code",
   "execution_count": 4,
   "id": "fb2fa098",
   "metadata": {},
   "outputs": [
    {
     "name": "stdout",
     "output_type": "stream",
     "text": [
      "Starting the training from scratch.\n",
      "Saving the model (step 2)\n",
      "Stopping Training Session\n"
     ]
    }
   ],
   "source": [
    "encoder_manager.train_session(number_steps=3)"
   ]
  },
  {
   "cell_type": "code",
   "execution_count": null,
   "id": "cad9d0c1",
   "metadata": {},
   "outputs": [],
   "source": []
  },
  {
   "cell_type": "markdown",
   "id": "27695b53",
   "metadata": {},
   "source": [
    "# Install osms"
   ]
  },
  {
   "cell_type": "markdown",
   "id": "60625270",
   "metadata": {},
   "source": [
    "We suggest to create a new virtual environment for demonstration.\n",
    "\n",
    "Run the cell below to create a new venv called demo_venv and activate it.\n",
    "\n",
    "The venv allows to isolate all newly installed pakages from system's python interpreter in order not to make confusions with global packages and their versions."
   ]
  },
  {
   "cell_type": "code",
   "execution_count": 1,
   "id": "7f46e524",
   "metadata": {},
   "outputs": [
    {
     "name": "stdout",
     "output_type": "stream",
     "text": [
      "Requirement already satisfied: pip in /Users/kolya/Documents/Skoltech_PhD/courses/Theoretical Foundations of Data Science/project/OSM-one-shot-multispeaker/.virtualenv/lib/python3.9/site-packages (21.1.1)\r\n"
     ]
    }
   ],
   "source": [
    "!python3 -m venv demo_venv\n",
    "!source demo_venv/bin/activate\n",
    "!python3 -m pip install --upgrade pip"
   ]
  },
  {
   "cell_type": "markdown",
   "id": "0140f151",
   "metadata": {},
   "source": [
    "Then one needs to change the current working directory to the root of OSM-one-shot-multispeaker"
   ]
  },
  {
   "cell_type": "code",
   "execution_count": 2,
   "id": "230ee72d",
   "metadata": {},
   "outputs": [
    {
     "name": "stdout",
     "output_type": "stream",
     "text": [
      "Initial working directory: /Users/kolya/Documents/Skoltech_PhD/courses/Theoretical Foundations of Data Science/project/OSM-one-shot-multispeaker/notebooks\n",
      "Current working directory: /Users/kolya/Documents/Skoltech_PhD/courses/Theoretical Foundations of Data Science/project/OSM-one-shot-multispeaker\n"
     ]
    }
   ],
   "source": [
    "import os\n",
    "\n",
    "print(f\"Initial working directory: {os.getcwd()}\")\n",
    "os.chdir('../')\n",
    "print(f\"Current working directory: {os.getcwd()}\")"
   ]
  },
  {
   "cell_type": "markdown",
   "id": "70d82b89",
   "metadata": {},
   "source": [
    "Now one can install osms package"
   ]
  },
  {
   "cell_type": "code",
   "execution_count": 3,
   "id": "065bc356",
   "metadata": {},
   "outputs": [
    {
     "name": "stdout",
     "output_type": "stream",
     "text": [
      "Processing /Users/kolya/Documents/Skoltech_PhD/courses/Theoretical Foundations of Data Science/project/OSM-one-shot-multispeaker\n",
      "\u001b[33m  DEPRECATION: A future pip version will change local packages to be built in-place without first copying to a temporary directory. We recommend you use --use-feature=in-tree-build to test your packages with this new behavior before it becomes the default.\n",
      "   pip 21.3 will remove support for this functionality. You can find discussion regarding this at https://github.com/pypa/pip/issues/7555.\u001b[0m\n",
      "Requirement already satisfied: numpy in ./.virtualenv/lib/python3.9/site-packages (from osms==1.0.0) (1.20.3)\n",
      "Requirement already satisfied: matplotlib in ./.virtualenv/lib/python3.9/site-packages (from osms==1.0.0) (3.4.2)\n",
      "Requirement already satisfied: scipy in ./.virtualenv/lib/python3.9/site-packages (from osms==1.0.0) (1.6.3)\n",
      "Requirement already satisfied: torch in ./.virtualenv/lib/python3.9/site-packages (from osms==1.0.0) (1.8.1)\n",
      "Requirement already satisfied: torchvision in ./.virtualenv/lib/python3.9/site-packages (from osms==1.0.0) (0.9.1)\n",
      "Requirement already satisfied: torchtext in ./.virtualenv/lib/python3.9/site-packages (from osms==1.0.0) (0.9.1)\n",
      "Requirement already satisfied: torchaudio in ./.virtualenv/lib/python3.9/site-packages (from osms==1.0.0) (0.8.1)\n",
      "Requirement already satisfied: ipython in ./.virtualenv/lib/python3.9/site-packages (from osms==1.0.0) (7.23.1)\n",
      "Requirement already satisfied: ipywidgets in ./.virtualenv/lib/python3.9/site-packages (from osms==1.0.0) (7.6.3)\n",
      "Requirement already satisfied: IProgress in ./.virtualenv/lib/python3.9/site-packages (from osms==1.0.0) (0.4)\n",
      "Requirement already satisfied: librosa in ./.virtualenv/lib/python3.9/site-packages (from osms==1.0.0) (0.8.0)\n",
      "Requirement already satisfied: SoundFile in ./.virtualenv/lib/python3.9/site-packages (from osms==1.0.0) (0.10.3.post1)\n",
      "Requirement already satisfied: inflect in ./.virtualenv/lib/python3.9/site-packages (from osms==1.0.0) (5.3.0)\n",
      "Requirement already satisfied: PyYAML in ./.virtualenv/lib/python3.9/site-packages (from osms==1.0.0) (5.4.1)\n",
      "Requirement already satisfied: yacs in ./.virtualenv/lib/python3.9/site-packages (from osms==1.0.0) (0.1.8)\n",
      "Requirement already satisfied: notebook in ./.virtualenv/lib/python3.9/site-packages (from osms==1.0.0) (6.3.0)\n",
      "Requirement already satisfied: unidecode in ./.virtualenv/lib/python3.9/site-packages (from osms==1.0.0) (1.2.0)\n",
      "Requirement already satisfied: webrtcvad-wheels in ./.virtualenv/lib/python3.9/site-packages (from osms==1.0.0) (2.0.10.post2)\n",
      "Requirement already satisfied: six in ./.virtualenv/lib/python3.9/site-packages (from IProgress->osms==1.0.0) (1.16.0)\n",
      "Requirement already satisfied: backcall in ./.virtualenv/lib/python3.9/site-packages (from ipython->osms==1.0.0) (0.2.0)\n",
      "Requirement already satisfied: pexpect>4.3 in ./.virtualenv/lib/python3.9/site-packages (from ipython->osms==1.0.0) (4.8.0)\n",
      "Requirement already satisfied: traitlets>=4.2 in ./.virtualenv/lib/python3.9/site-packages (from ipython->osms==1.0.0) (5.0.5)\n",
      "Requirement already satisfied: setuptools>=18.5 in ./.virtualenv/lib/python3.9/site-packages (from ipython->osms==1.0.0) (56.0.0)\n",
      "Requirement already satisfied: pygments in ./.virtualenv/lib/python3.9/site-packages (from ipython->osms==1.0.0) (2.9.0)\n",
      "Requirement already satisfied: prompt-toolkit!=3.0.0,!=3.0.1,<3.1.0,>=2.0.0 in ./.virtualenv/lib/python3.9/site-packages (from ipython->osms==1.0.0) (3.0.18)\n",
      "Requirement already satisfied: matplotlib-inline in ./.virtualenv/lib/python3.9/site-packages (from ipython->osms==1.0.0) (0.1.2)\n",
      "Requirement already satisfied: jedi>=0.16 in ./.virtualenv/lib/python3.9/site-packages (from ipython->osms==1.0.0) (0.18.0)\n",
      "Requirement already satisfied: appnope in ./.virtualenv/lib/python3.9/site-packages (from ipython->osms==1.0.0) (0.1.2)\n",
      "Requirement already satisfied: decorator in ./.virtualenv/lib/python3.9/site-packages (from ipython->osms==1.0.0) (5.0.7)\n",
      "Requirement already satisfied: pickleshare in ./.virtualenv/lib/python3.9/site-packages (from ipython->osms==1.0.0) (0.7.5)\n",
      "Requirement already satisfied: parso<0.9.0,>=0.8.0 in ./.virtualenv/lib/python3.9/site-packages (from jedi>=0.16->ipython->osms==1.0.0) (0.8.2)\n",
      "Requirement already satisfied: ptyprocess>=0.5 in ./.virtualenv/lib/python3.9/site-packages (from pexpect>4.3->ipython->osms==1.0.0) (0.7.0)\n",
      "Requirement already satisfied: wcwidth in ./.virtualenv/lib/python3.9/site-packages (from prompt-toolkit!=3.0.0,!=3.0.1,<3.1.0,>=2.0.0->ipython->osms==1.0.0) (0.2.5)\n",
      "Requirement already satisfied: ipython-genutils in ./.virtualenv/lib/python3.9/site-packages (from traitlets>=4.2->ipython->osms==1.0.0) (0.2.0)\n",
      "Requirement already satisfied: ipykernel>=4.5.1 in ./.virtualenv/lib/python3.9/site-packages (from ipywidgets->osms==1.0.0) (5.5.4)\n",
      "Requirement already satisfied: widgetsnbextension~=3.5.0 in ./.virtualenv/lib/python3.9/site-packages (from ipywidgets->osms==1.0.0) (3.5.1)\n",
      "Requirement already satisfied: jupyterlab-widgets>=1.0.0 in ./.virtualenv/lib/python3.9/site-packages (from ipywidgets->osms==1.0.0) (1.0.0)\n",
      "Requirement already satisfied: nbformat>=4.2.0 in ./.virtualenv/lib/python3.9/site-packages (from ipywidgets->osms==1.0.0) (5.1.3)\n",
      "Requirement already satisfied: jupyter-client in ./.virtualenv/lib/python3.9/site-packages (from ipykernel>=4.5.1->ipywidgets->osms==1.0.0) (6.1.12)\n",
      "Requirement already satisfied: tornado>=4.2 in ./.virtualenv/lib/python3.9/site-packages (from ipykernel>=4.5.1->ipywidgets->osms==1.0.0) (6.1)\n",
      "Requirement already satisfied: jsonschema!=2.5.0,>=2.4 in ./.virtualenv/lib/python3.9/site-packages (from nbformat>=4.2.0->ipywidgets->osms==1.0.0) (3.2.0)\n",
      "Requirement already satisfied: jupyter-core in ./.virtualenv/lib/python3.9/site-packages (from nbformat>=4.2.0->ipywidgets->osms==1.0.0) (4.7.1)\n",
      "Requirement already satisfied: attrs>=17.4.0 in ./.virtualenv/lib/python3.9/site-packages (from jsonschema!=2.5.0,>=2.4->nbformat>=4.2.0->ipywidgets->osms==1.0.0) (21.2.0)\n",
      "Requirement already satisfied: pyrsistent>=0.14.0 in ./.virtualenv/lib/python3.9/site-packages (from jsonschema!=2.5.0,>=2.4->nbformat>=4.2.0->ipywidgets->osms==1.0.0) (0.17.3)\n",
      "Requirement already satisfied: Send2Trash>=1.5.0 in ./.virtualenv/lib/python3.9/site-packages (from notebook->osms==1.0.0) (1.5.0)\n",
      "Requirement already satisfied: nbconvert in ./.virtualenv/lib/python3.9/site-packages (from notebook->osms==1.0.0) (6.0.7)\n",
      "Requirement already satisfied: terminado>=0.8.3 in ./.virtualenv/lib/python3.9/site-packages (from notebook->osms==1.0.0) (0.9.4)\n",
      "Requirement already satisfied: prometheus-client in ./.virtualenv/lib/python3.9/site-packages (from notebook->osms==1.0.0) (0.10.1)\n",
      "Requirement already satisfied: pyzmq>=17 in ./.virtualenv/lib/python3.9/site-packages (from notebook->osms==1.0.0) (22.0.3)\n",
      "Requirement already satisfied: jinja2 in ./.virtualenv/lib/python3.9/site-packages (from notebook->osms==1.0.0) (2.11.3)\n",
      "Requirement already satisfied: argon2-cffi in ./.virtualenv/lib/python3.9/site-packages (from notebook->osms==1.0.0) (20.1.0)\n",
      "Requirement already satisfied: python-dateutil>=2.1 in ./.virtualenv/lib/python3.9/site-packages (from jupyter-client->ipykernel>=4.5.1->ipywidgets->osms==1.0.0) (2.8.1)\n",
      "Requirement already satisfied: cffi>=1.0.0 in ./.virtualenv/lib/python3.9/site-packages (from argon2-cffi->notebook->osms==1.0.0) (1.14.5)\n",
      "Requirement already satisfied: pycparser in ./.virtualenv/lib/python3.9/site-packages (from cffi>=1.0.0->argon2-cffi->notebook->osms==1.0.0) (2.20)\n",
      "Requirement already satisfied: MarkupSafe>=0.23 in ./.virtualenv/lib/python3.9/site-packages (from jinja2->notebook->osms==1.0.0) (1.1.1)\n",
      "Requirement already satisfied: audioread>=2.0.0 in ./.virtualenv/lib/python3.9/site-packages (from librosa->osms==1.0.0) (2.1.9)\n",
      "Requirement already satisfied: scikit-learn!=0.19.0,>=0.14.0 in ./.virtualenv/lib/python3.9/site-packages (from librosa->osms==1.0.0) (0.24.2)\n",
      "Requirement already satisfied: joblib>=0.14 in ./.virtualenv/lib/python3.9/site-packages (from librosa->osms==1.0.0) (1.0.1)\n",
      "Requirement already satisfied: resampy>=0.2.2 in ./.virtualenv/lib/python3.9/site-packages (from librosa->osms==1.0.0) (0.2.2)\n",
      "Requirement already satisfied: numba>=0.43.0 in ./.virtualenv/lib/python3.9/site-packages (from librosa->osms==1.0.0) (0.53.1)\n",
      "Requirement already satisfied: pooch>=1.0 in ./.virtualenv/lib/python3.9/site-packages (from librosa->osms==1.0.0) (1.3.0)\n",
      "Requirement already satisfied: llvmlite<0.37,>=0.36.0rc1 in ./.virtualenv/lib/python3.9/site-packages (from numba>=0.43.0->librosa->osms==1.0.0) (0.36.0)\n"
     ]
    },
    {
     "name": "stdout",
     "output_type": "stream",
     "text": [
      "Requirement already satisfied: requests in ./.virtualenv/lib/python3.9/site-packages (from pooch>=1.0->librosa->osms==1.0.0) (2.25.1)\n",
      "Requirement already satisfied: appdirs in ./.virtualenv/lib/python3.9/site-packages (from pooch>=1.0->librosa->osms==1.0.0) (1.4.4)\n",
      "Requirement already satisfied: packaging in ./.virtualenv/lib/python3.9/site-packages (from pooch>=1.0->librosa->osms==1.0.0) (20.9)\n",
      "Requirement already satisfied: threadpoolctl>=2.0.0 in ./.virtualenv/lib/python3.9/site-packages (from scikit-learn!=0.19.0,>=0.14.0->librosa->osms==1.0.0) (2.1.0)\n",
      "Requirement already satisfied: kiwisolver>=1.0.1 in ./.virtualenv/lib/python3.9/site-packages (from matplotlib->osms==1.0.0) (1.3.1)\n",
      "Requirement already satisfied: pyparsing>=2.2.1 in ./.virtualenv/lib/python3.9/site-packages (from matplotlib->osms==1.0.0) (2.4.7)\n",
      "Requirement already satisfied: cycler>=0.10 in ./.virtualenv/lib/python3.9/site-packages (from matplotlib->osms==1.0.0) (0.10.0)\n",
      "Requirement already satisfied: pillow>=6.2.0 in ./.virtualenv/lib/python3.9/site-packages (from matplotlib->osms==1.0.0) (8.2.0)\n",
      "Requirement already satisfied: mistune<2,>=0.8.1 in ./.virtualenv/lib/python3.9/site-packages (from nbconvert->notebook->osms==1.0.0) (0.8.4)\n",
      "Requirement already satisfied: pandocfilters>=1.4.1 in ./.virtualenv/lib/python3.9/site-packages (from nbconvert->notebook->osms==1.0.0) (1.4.3)\n",
      "Requirement already satisfied: nbclient<0.6.0,>=0.5.0 in ./.virtualenv/lib/python3.9/site-packages (from nbconvert->notebook->osms==1.0.0) (0.5.3)\n",
      "Requirement already satisfied: jupyterlab-pygments in ./.virtualenv/lib/python3.9/site-packages (from nbconvert->notebook->osms==1.0.0) (0.1.2)\n",
      "Requirement already satisfied: bleach in ./.virtualenv/lib/python3.9/site-packages (from nbconvert->notebook->osms==1.0.0) (3.3.0)\n",
      "Requirement already satisfied: defusedxml in ./.virtualenv/lib/python3.9/site-packages (from nbconvert->notebook->osms==1.0.0) (0.7.1)\n",
      "Requirement already satisfied: testpath in ./.virtualenv/lib/python3.9/site-packages (from nbconvert->notebook->osms==1.0.0) (0.4.4)\n",
      "Requirement already satisfied: entrypoints>=0.2.2 in ./.virtualenv/lib/python3.9/site-packages (from nbconvert->notebook->osms==1.0.0) (0.3)\n",
      "Requirement already satisfied: async-generator in ./.virtualenv/lib/python3.9/site-packages (from nbclient<0.6.0,>=0.5.0->nbconvert->notebook->osms==1.0.0) (1.10)\n",
      "Requirement already satisfied: nest-asyncio in ./.virtualenv/lib/python3.9/site-packages (from nbclient<0.6.0,>=0.5.0->nbconvert->notebook->osms==1.0.0) (1.5.1)\n",
      "Requirement already satisfied: webencodings in ./.virtualenv/lib/python3.9/site-packages (from bleach->nbconvert->notebook->osms==1.0.0) (0.5.1)\n",
      "Requirement already satisfied: certifi>=2017.4.17 in ./.virtualenv/lib/python3.9/site-packages (from requests->pooch>=1.0->librosa->osms==1.0.0) (2020.12.5)\n",
      "Requirement already satisfied: idna<3,>=2.5 in ./.virtualenv/lib/python3.9/site-packages (from requests->pooch>=1.0->librosa->osms==1.0.0) (2.10)\n",
      "Requirement already satisfied: chardet<5,>=3.0.2 in ./.virtualenv/lib/python3.9/site-packages (from requests->pooch>=1.0->librosa->osms==1.0.0) (4.0.0)\n",
      "Requirement already satisfied: urllib3<1.27,>=1.21.1 in ./.virtualenv/lib/python3.9/site-packages (from requests->pooch>=1.0->librosa->osms==1.0.0) (1.26.4)\n",
      "Requirement already satisfied: typing-extensions in ./.virtualenv/lib/python3.9/site-packages (from torch->osms==1.0.0) (3.10.0.0)\n",
      "Requirement already satisfied: tqdm in ./.virtualenv/lib/python3.9/site-packages (from torchtext->osms==1.0.0) (4.60.0)\n",
      "Using legacy 'setup.py install' for osms, since package 'wheel' is not installed.\n",
      "Installing collected packages: osms\n",
      "    Running setup.py install for osms ... \u001b[?25ldone\n",
      "\u001b[?25hSuccessfully installed osms-1.0.0\n"
     ]
    }
   ],
   "source": [
    "!pip3 install ."
   ]
  },
  {
   "cell_type": "markdown",
   "id": "f3214bbf",
   "metadata": {},
   "source": [
    "# Speaker Encoder training demo"
   ]
  },
  {
   "cell_type": "markdown",
   "id": "84dd9528",
   "metadata": {},
   "source": [
    "This section describes how to manipulate with datasets and how to train an encoder"
   ]
  },
  {
   "cell_type": "code",
   "execution_count": 4,
   "id": "d92b8764",
   "metadata": {},
   "outputs": [],
   "source": [
    "if not os.path.exists('dataset'):\n",
    "    os.mkdir('dataset')"
   ]
  },
  {
   "cell_type": "markdown",
   "id": "44484c99",
   "metadata": {},
   "source": [
    "Download [LibriSpeech](https://www.openslr.org/resources/12/train-clean-100.tar.gz) dataset and unpack it in the directory `dataset`"
   ]
  },
  {
   "cell_type": "markdown",
   "id": "8a5f166d",
   "metadata": {},
   "source": [
    "Import classes and functions for dataset preprocessing:"
   ]
  },
  {
   "cell_type": "code",
   "execution_count": 5,
   "id": "1d193fed",
   "metadata": {},
   "outputs": [],
   "source": [
    "from osms.common.configs import get_default_main_configs\n",
    "from osms.tts_modules.encoder.configs import get_default_encoder_config\n",
    "from osms.tts_modules.encoder.data.wav2mel import StandardWav2MelTransform\n",
    "from osms.tts_modules.encoder.data.wav_preprocessing import StandardAudioPreprocessor\n",
    "from osms.tts_modules.encoder.data.dataset import PreprocessLibriSpeechDataset"
   ]
  },
  {
   "cell_type": "markdown",
   "id": "e0f156a2",
   "metadata": {},
   "source": [
    "All configs in `osms` are instances of `CfgNode` from `yacs` library. The default values are defined in the corresponding functions inside `osms`. The user can always update these configs from custom \\*.yaml configuration file. However in this demo we won't use customized configurations.\n",
    "\n",
    "`main_configs` contains some general configurations which are available across the whole package.\n",
    "\n",
    "`encoder_config` contains all configurations required for speaker encoder module and its methods and classes"
   ]
  },
  {
   "cell_type": "code",
   "execution_count": null,
   "id": "a6e461d6",
   "metadata": {},
   "outputs": [],
   "source": [
    "main_configs = get_default_main_configs()\n",
    "encoder_config = get_default_encoder_config()\n",
    "\n",
    "preprocessor = StandardAudioPreprocessor(encoder_config)\n",
    "wav2mel = StandardWav2MelTransform(encoder_config)\n",
    "\n",
    "data_preprocesser = PreprocessLibriSpeechDataset(encoder_config, preprocessor, wav2mel)"
   ]
  },
  {
   "cell_type": "code",
   "execution_count": null,
   "id": "bf54688c",
   "metadata": {},
   "outputs": [],
   "source": []
  },
  {
   "cell_type": "code",
   "execution_count": null,
   "id": "bb016b9a",
   "metadata": {},
   "outputs": [],
   "source": []
  },
  {
   "cell_type": "code",
   "execution_count": null,
   "id": "0025e47c",
   "metadata": {},
   "outputs": [],
   "source": [
    "from osms.tts_modules.encoder import SpeakerEncoderManager\n",
    "from osms.tts_modules.encoder.data.dataset import SpeakerEncoderDataLoader, SpeakerEncoderDataset\n",
    "from osms.tts_modules.encoder.models import DVecModel"
   ]
  }
 ],
 "metadata": {
  "kernelspec": {
   "display_name": "Python 3",
   "language": "python",
   "name": "python3"
  },
  "language_info": {
   "codemirror_mode": {
    "name": "ipython",
    "version": 3
   },
   "file_extension": ".py",
   "mimetype": "text/x-python",
   "name": "python",
   "nbconvert_exporter": "python",
   "pygments_lexer": "ipython3",
   "version": "3.9.0"
  }
 },
 "nbformat": 4,
 "nbformat_minor": 5
}
